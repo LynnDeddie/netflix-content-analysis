{
 "cells": [
  {
   "cell_type": "code",
   "execution_count": 1,
   "id": "7f648362-14dd-4079-9ea2-a3709df0834e",
   "metadata": {},
   "outputs": [],
   "source": [
    "import pandas as pd"
   ]
  },
  {
   "cell_type": "code",
   "execution_count": 5,
   "id": "8a3bb7de-a434-4627-b953-65504dcafb87",
   "metadata": {},
   "outputs": [
    {
     "data": {
      "text/html": [
       "<div>\n",
       "<style scoped>\n",
       "    .dataframe tbody tr th:only-of-type {\n",
       "        vertical-align: middle;\n",
       "    }\n",
       "\n",
       "    .dataframe tbody tr th {\n",
       "        vertical-align: top;\n",
       "    }\n",
       "\n",
       "    .dataframe thead th {\n",
       "        text-align: right;\n",
       "    }\n",
       "</style>\n",
       "<table border=\"1\" class=\"dataframe\">\n",
       "  <thead>\n",
       "    <tr style=\"text-align: right;\">\n",
       "      <th></th>\n",
       "      <th>Country</th>\n",
       "      <th>Happiness Rank</th>\n",
       "      <th>Happiness Score</th>\n",
       "      <th>Economy</th>\n",
       "      <th>Family</th>\n",
       "      <th>Health</th>\n",
       "      <th>Freedom</th>\n",
       "      <th>Generosity</th>\n",
       "      <th>Corruption</th>\n",
       "      <th>Dystopia</th>\n",
       "      <th>Job Satisfaction</th>\n",
       "      <th>Region</th>\n",
       "    </tr>\n",
       "  </thead>\n",
       "  <tbody>\n",
       "    <tr>\n",
       "      <th>0</th>\n",
       "      <td>Norway</td>\n",
       "      <td>1</td>\n",
       "      <td>7.537</td>\n",
       "      <td>1.616463</td>\n",
       "      <td>1.533524</td>\n",
       "      <td>0.796667</td>\n",
       "      <td>0.635423</td>\n",
       "      <td>0.362012</td>\n",
       "      <td>0.315964</td>\n",
       "      <td>2.277027</td>\n",
       "      <td>94.6</td>\n",
       "      <td>Western Europe</td>\n",
       "    </tr>\n",
       "    <tr>\n",
       "      <th>1</th>\n",
       "      <td>Denmark</td>\n",
       "      <td>2</td>\n",
       "      <td>7.522</td>\n",
       "      <td>1.482383</td>\n",
       "      <td>1.551122</td>\n",
       "      <td>0.792566</td>\n",
       "      <td>0.626007</td>\n",
       "      <td>0.355280</td>\n",
       "      <td>0.400770</td>\n",
       "      <td>2.313707</td>\n",
       "      <td>93.5</td>\n",
       "      <td>Western Europe</td>\n",
       "    </tr>\n",
       "    <tr>\n",
       "      <th>2</th>\n",
       "      <td>Iceland</td>\n",
       "      <td>3</td>\n",
       "      <td>7.504</td>\n",
       "      <td>1.480633</td>\n",
       "      <td>1.610574</td>\n",
       "      <td>0.833552</td>\n",
       "      <td>0.627163</td>\n",
       "      <td>0.475540</td>\n",
       "      <td>0.153527</td>\n",
       "      <td>2.322715</td>\n",
       "      <td>94.5</td>\n",
       "      <td>Western Europe</td>\n",
       "    </tr>\n",
       "    <tr>\n",
       "      <th>3</th>\n",
       "      <td>Switzerland</td>\n",
       "      <td>4</td>\n",
       "      <td>7.494</td>\n",
       "      <td>1.564980</td>\n",
       "      <td>1.516912</td>\n",
       "      <td>0.858131</td>\n",
       "      <td>0.620071</td>\n",
       "      <td>0.290549</td>\n",
       "      <td>0.367007</td>\n",
       "      <td>2.276716</td>\n",
       "      <td>93.7</td>\n",
       "      <td>Western Europe</td>\n",
       "    </tr>\n",
       "    <tr>\n",
       "      <th>4</th>\n",
       "      <td>Finland</td>\n",
       "      <td>5</td>\n",
       "      <td>7.469</td>\n",
       "      <td>1.443572</td>\n",
       "      <td>1.540247</td>\n",
       "      <td>0.809158</td>\n",
       "      <td>0.617951</td>\n",
       "      <td>0.245483</td>\n",
       "      <td>0.382612</td>\n",
       "      <td>2.430182</td>\n",
       "      <td>91.2</td>\n",
       "      <td>Western Europe</td>\n",
       "    </tr>\n",
       "  </tbody>\n",
       "</table>\n",
       "</div>"
      ],
      "text/plain": [
       "       Country  Happiness Rank  Happiness Score   Economy    Family    Health  \\\n",
       "0       Norway               1            7.537  1.616463  1.533524  0.796667   \n",
       "1      Denmark               2            7.522  1.482383  1.551122  0.792566   \n",
       "2      Iceland               3            7.504  1.480633  1.610574  0.833552   \n",
       "3  Switzerland               4            7.494  1.564980  1.516912  0.858131   \n",
       "4      Finland               5            7.469  1.443572  1.540247  0.809158   \n",
       "\n",
       "    Freedom  Generosity  Corruption  Dystopia  Job Satisfaction  \\\n",
       "0  0.635423    0.362012    0.315964  2.277027              94.6   \n",
       "1  0.626007    0.355280    0.400770  2.313707              93.5   \n",
       "2  0.627163    0.475540    0.153527  2.322715              94.5   \n",
       "3  0.620071    0.290549    0.367007  2.276716              93.7   \n",
       "4  0.617951    0.245483    0.382612  2.430182              91.2   \n",
       "\n",
       "           Region  \n",
       "0  Western Europe  \n",
       "1  Western Europe  \n",
       "2  Western Europe  \n",
       "3  Western Europe  \n",
       "4  Western Europe  "
      ]
     },
     "execution_count": 5,
     "metadata": {},
     "output_type": "execute_result"
    }
   ],
   "source": [
    "df = pd.read_csv(\"https://raw.githubusercontent.com/PhilippeCodes/World-Happiness-Report-Data-Analysis/refs/heads/master/World%20Happiness%20Report.csv\")\n",
    "df.head()"
   ]
  },
  {
   "cell_type": "code",
   "execution_count": 7,
   "id": "16bea90e-5cc6-466e-838d-d89b2253ac6f",
   "metadata": {},
   "outputs": [
    {
     "data": {
      "text/plain": [
       "Country             0\n",
       "Happiness Rank      0\n",
       "Happiness Score     0\n",
       "Economy             0\n",
       "Family              0\n",
       "Health              0\n",
       "Freedom             0\n",
       "Generosity          0\n",
       "Corruption          0\n",
       "Dystopia            0\n",
       "Job Satisfaction    2\n",
       "Region              0\n",
       "dtype: int64"
      ]
     },
     "execution_count": 7,
     "metadata": {},
     "output_type": "execute_result"
    }
   ],
   "source": [
    "df.isna().sum()"
   ]
  },
  {
   "cell_type": "code",
   "execution_count": 9,
   "id": "f5449739-41df-4043-b8f2-f11e85d9c4eb",
   "metadata": {},
   "outputs": [],
   "source": [
    "df.dropna(inplace= True)"
   ]
  },
  {
   "cell_type": "code",
   "execution_count": 13,
   "id": "b347a129-d328-4762-b7a8-e3e71eb3d5b8",
   "metadata": {},
   "outputs": [
    {
     "data": {
      "text/plain": [
       "0"
      ]
     },
     "execution_count": 13,
     "metadata": {},
     "output_type": "execute_result"
    }
   ],
   "source": [
    "df.duplicated().sum()"
   ]
  },
  {
   "cell_type": "code",
   "execution_count": 15,
   "id": "06c04c6f-310d-4604-88e2-2e662d3e0d98",
   "metadata": {},
   "outputs": [
    {
     "name": "stdout",
     "output_type": "stream",
     "text": [
      "<class 'pandas.core.frame.DataFrame'>\n",
      "Index: 151 entries, 0 to 152\n",
      "Data columns (total 12 columns):\n",
      " #   Column            Non-Null Count  Dtype  \n",
      "---  ------            --------------  -----  \n",
      " 0   Country           151 non-null    object \n",
      " 1   Happiness Rank    151 non-null    int64  \n",
      " 2   Happiness Score   151 non-null    float64\n",
      " 3   Economy           151 non-null    float64\n",
      " 4   Family            151 non-null    float64\n",
      " 5   Health            151 non-null    float64\n",
      " 6   Freedom           151 non-null    float64\n",
      " 7   Generosity        151 non-null    float64\n",
      " 8   Corruption        151 non-null    float64\n",
      " 9   Dystopia          151 non-null    float64\n",
      " 10  Job Satisfaction  151 non-null    float64\n",
      " 11  Region            151 non-null    object \n",
      "dtypes: float64(9), int64(1), object(2)\n",
      "memory usage: 15.3+ KB\n"
     ]
    }
   ],
   "source": [
    "df.info()"
   ]
  },
  {
   "cell_type": "code",
   "execution_count": 24,
   "id": "0e5e3f05-93f5-4de7-915c-bbc359683d4b",
   "metadata": {},
   "outputs": [],
   "source": [
    "df.columns = df.columns.str.lower()"
   ]
  },
  {
   "cell_type": "markdown",
   "id": "8009f629-b039-4548-b8f1-913d272ff103",
   "metadata": {},
   "source": [
    "### Feature Engineering"
   ]
  },
  {
   "cell_type": "code",
   "execution_count": 28,
   "id": "6b3c6b81-667a-4753-b4d1-260cd346dacd",
   "metadata": {},
   "outputs": [
    {
     "data": {
      "text/html": [
       "<div>\n",
       "<style scoped>\n",
       "    .dataframe tbody tr th:only-of-type {\n",
       "        vertical-align: middle;\n",
       "    }\n",
       "\n",
       "    .dataframe tbody tr th {\n",
       "        vertical-align: top;\n",
       "    }\n",
       "\n",
       "    .dataframe thead th {\n",
       "        text-align: right;\n",
       "    }\n",
       "</style>\n",
       "<table border=\"1\" class=\"dataframe\">\n",
       "  <thead>\n",
       "    <tr style=\"text-align: right;\">\n",
       "      <th></th>\n",
       "      <th>country</th>\n",
       "      <th>happiness rank</th>\n",
       "      <th>happiness score</th>\n",
       "      <th>economy</th>\n",
       "      <th>family</th>\n",
       "      <th>health</th>\n",
       "      <th>freedom</th>\n",
       "      <th>generosity</th>\n",
       "      <th>corruption</th>\n",
       "      <th>dystopia</th>\n",
       "      <th>job satisfaction</th>\n",
       "      <th>region</th>\n",
       "      <th>happiness ratio</th>\n",
       "    </tr>\n",
       "  </thead>\n",
       "  <tbody>\n",
       "    <tr>\n",
       "      <th>0</th>\n",
       "      <td>Norway</td>\n",
       "      <td>1</td>\n",
       "      <td>7.537</td>\n",
       "      <td>1.616463</td>\n",
       "      <td>1.533524</td>\n",
       "      <td>0.796667</td>\n",
       "      <td>0.635423</td>\n",
       "      <td>0.362012</td>\n",
       "      <td>0.315964</td>\n",
       "      <td>2.277027</td>\n",
       "      <td>94.6</td>\n",
       "      <td>Western Europe</td>\n",
       "      <td>1.00000</td>\n",
       "    </tr>\n",
       "    <tr>\n",
       "      <th>1</th>\n",
       "      <td>Denmark</td>\n",
       "      <td>2</td>\n",
       "      <td>7.522</td>\n",
       "      <td>1.482383</td>\n",
       "      <td>1.551122</td>\n",
       "      <td>0.792566</td>\n",
       "      <td>0.626007</td>\n",
       "      <td>0.355280</td>\n",
       "      <td>0.400770</td>\n",
       "      <td>2.313707</td>\n",
       "      <td>93.5</td>\n",
       "      <td>Western Europe</td>\n",
       "      <td>0.99801</td>\n",
       "    </tr>\n",
       "  </tbody>\n",
       "</table>\n",
       "</div>"
      ],
      "text/plain": [
       "   country  happiness rank  happiness score   economy    family    health  \\\n",
       "0   Norway               1            7.537  1.616463  1.533524  0.796667   \n",
       "1  Denmark               2            7.522  1.482383  1.551122  0.792566   \n",
       "\n",
       "    freedom  generosity  corruption  dystopia  job satisfaction  \\\n",
       "0  0.635423    0.362012    0.315964  2.277027              94.6   \n",
       "1  0.626007    0.355280    0.400770  2.313707              93.5   \n",
       "\n",
       "           region  happiness ratio   \n",
       "0  Western Europe           1.00000  \n",
       "1  Western Europe           0.99801  "
      ]
     },
     "execution_count": 28,
     "metadata": {},
     "output_type": "execute_result"
    }
   ],
   "source": [
    "df['happiness ratio '] = df['happiness score']/ df['happiness score'].max()\n",
    "df.head(2)"
   ]
  },
  {
   "cell_type": "code",
   "execution_count": 32,
   "id": "5b0956e8-4fd6-48b9-bb16-ef3c2dc9d775",
   "metadata": {},
   "outputs": [
    {
     "data": {
      "text/plain": [
       "region\n",
       "Asia-Pacific      43\n",
       "Africa            43\n",
       "Latin America     22\n",
       "Eastern Europe    21\n",
       "Western Europe    19\n",
       "North America      2\n",
       "Europe             1\n",
       "Name: count, dtype: int64"
      ]
     },
     "execution_count": 32,
     "metadata": {},
     "output_type": "execute_result"
    }
   ],
   "source": [
    "regions = df['region'].value_counts()\n",
    "regions"
   ]
  },
  {
   "cell_type": "code",
   "execution_count": 38,
   "id": "f3c7a1ce-1ea1-4d9e-8756-4fd242f3b407",
   "metadata": {},
   "outputs": [],
   "source": [
    "df['region_ID']= df['region'].apply(lambda x: 'A1' if x =='Asia-Pacific' else ('A2' if x =='Africa' else 'L1' if x == 'Latin America' else 'E1' if x == 'Eastern Europe' else 'W1' if x == 'Western Europe' else 'N1' if x == 'North America' else 'E2'))"
   ]
  },
  {
   "cell_type": "code",
   "execution_count": 44,
   "id": "fa925369-6e39-49a4-aa4a-886a0f9635db",
   "metadata": {},
   "outputs": [
    {
     "data": {
      "text/html": [
       "<div>\n",
       "<style scoped>\n",
       "    .dataframe tbody tr th:only-of-type {\n",
       "        vertical-align: middle;\n",
       "    }\n",
       "\n",
       "    .dataframe tbody tr th {\n",
       "        vertical-align: top;\n",
       "    }\n",
       "\n",
       "    .dataframe thead th {\n",
       "        text-align: right;\n",
       "    }\n",
       "</style>\n",
       "<table border=\"1\" class=\"dataframe\">\n",
       "  <thead>\n",
       "    <tr style=\"text-align: right;\">\n",
       "      <th></th>\n",
       "      <th>country</th>\n",
       "      <th>happiness rank</th>\n",
       "      <th>happiness score</th>\n",
       "      <th>economy</th>\n",
       "      <th>family</th>\n",
       "      <th>health</th>\n",
       "      <th>freedom</th>\n",
       "      <th>generosity</th>\n",
       "      <th>corruption</th>\n",
       "      <th>dystopia</th>\n",
       "      <th>job satisfaction</th>\n",
       "      <th>region</th>\n",
       "      <th>happiness ratio</th>\n",
       "      <th>region_ID</th>\n",
       "    </tr>\n",
       "  </thead>\n",
       "  <tbody>\n",
       "    <tr>\n",
       "      <th>148</th>\n",
       "      <td>Rwanda</td>\n",
       "      <td>151</td>\n",
       "      <td>3.471</td>\n",
       "      <td>0.368746</td>\n",
       "      <td>0.945707</td>\n",
       "      <td>0.326425</td>\n",
       "      <td>0.581844</td>\n",
       "      <td>0.252756</td>\n",
       "      <td>0.455220</td>\n",
       "      <td>0.540061</td>\n",
       "      <td>51.7</td>\n",
       "      <td>Africa</td>\n",
       "      <td>0.460528</td>\n",
       "      <td>A2</td>\n",
       "    </tr>\n",
       "    <tr>\n",
       "      <th>149</th>\n",
       "      <td>Syria</td>\n",
       "      <td>152</td>\n",
       "      <td>3.462</td>\n",
       "      <td>0.777153</td>\n",
       "      <td>0.396103</td>\n",
       "      <td>0.500533</td>\n",
       "      <td>0.081539</td>\n",
       "      <td>0.493664</td>\n",
       "      <td>0.151347</td>\n",
       "      <td>1.061574</td>\n",
       "      <td>62.7</td>\n",
       "      <td>Asia-Pacific</td>\n",
       "      <td>0.459334</td>\n",
       "      <td>A1</td>\n",
       "    </tr>\n",
       "    <tr>\n",
       "      <th>150</th>\n",
       "      <td>Tanzania</td>\n",
       "      <td>153</td>\n",
       "      <td>3.349</td>\n",
       "      <td>0.511136</td>\n",
       "      <td>1.041990</td>\n",
       "      <td>0.364509</td>\n",
       "      <td>0.390018</td>\n",
       "      <td>0.354256</td>\n",
       "      <td>0.066035</td>\n",
       "      <td>0.621130</td>\n",
       "      <td>57.8</td>\n",
       "      <td>Africa</td>\n",
       "      <td>0.444341</td>\n",
       "      <td>A2</td>\n",
       "    </tr>\n",
       "    <tr>\n",
       "      <th>151</th>\n",
       "      <td>Burundi</td>\n",
       "      <td>154</td>\n",
       "      <td>2.905</td>\n",
       "      <td>0.091623</td>\n",
       "      <td>0.629794</td>\n",
       "      <td>0.151611</td>\n",
       "      <td>0.059901</td>\n",
       "      <td>0.204435</td>\n",
       "      <td>0.084148</td>\n",
       "      <td>1.683024</td>\n",
       "      <td>54.3</td>\n",
       "      <td>Africa</td>\n",
       "      <td>0.385432</td>\n",
       "      <td>A2</td>\n",
       "    </tr>\n",
       "    <tr>\n",
       "      <th>152</th>\n",
       "      <td>Central African Republic</td>\n",
       "      <td>155</td>\n",
       "      <td>2.693</td>\n",
       "      <td>0.000000</td>\n",
       "      <td>0.000000</td>\n",
       "      <td>0.018773</td>\n",
       "      <td>0.270842</td>\n",
       "      <td>0.280876</td>\n",
       "      <td>0.056565</td>\n",
       "      <td>2.066005</td>\n",
       "      <td>70.4</td>\n",
       "      <td>Africa</td>\n",
       "      <td>0.357304</td>\n",
       "      <td>A2</td>\n",
       "    </tr>\n",
       "  </tbody>\n",
       "</table>\n",
       "</div>"
      ],
      "text/plain": [
       "                      country  happiness rank  happiness score   economy  \\\n",
       "148                    Rwanda             151            3.471  0.368746   \n",
       "149                     Syria             152            3.462  0.777153   \n",
       "150                  Tanzania             153            3.349  0.511136   \n",
       "151                   Burundi             154            2.905  0.091623   \n",
       "152  Central African Republic             155            2.693  0.000000   \n",
       "\n",
       "       family    health   freedom  generosity  corruption  dystopia  \\\n",
       "148  0.945707  0.326425  0.581844    0.252756    0.455220  0.540061   \n",
       "149  0.396103  0.500533  0.081539    0.493664    0.151347  1.061574   \n",
       "150  1.041990  0.364509  0.390018    0.354256    0.066035  0.621130   \n",
       "151  0.629794  0.151611  0.059901    0.204435    0.084148  1.683024   \n",
       "152  0.000000  0.018773  0.270842    0.280876    0.056565  2.066005   \n",
       "\n",
       "     job satisfaction        region  happiness ratio  region_ID  \n",
       "148              51.7        Africa          0.460528        A2  \n",
       "149              62.7  Asia-Pacific          0.459334        A1  \n",
       "150              57.8        Africa          0.444341        A2  \n",
       "151              54.3        Africa          0.385432        A2  \n",
       "152              70.4        Africa          0.357304        A2  "
      ]
     },
     "execution_count": 44,
     "metadata": {},
     "output_type": "execute_result"
    }
   ],
   "source": [
    "df.tail(5)"
   ]
  },
  {
   "cell_type": "code",
   "execution_count": 56,
   "id": "bce21d8a-98f2-41ac-a2d2-dfb4d4218fc6",
   "metadata": {},
   "outputs": [
    {
     "data": {
      "text/plain": [
       "country\n",
       "Afghanistan    3.794\n",
       "Albania        4.644\n",
       "Algeria        5.872\n",
       "Angola         3.795\n",
       "Argentina      6.599\n",
       "               ...  \n",
       "Venezuela      5.250\n",
       "Vietnam        5.074\n",
       "Yemen          3.593\n",
       "Zambia         4.514\n",
       "Zimbabwe       3.875\n",
       "Name: happiness score, Length: 151, dtype: float64"
      ]
     },
     "execution_count": 56,
     "metadata": {},
     "output_type": "execute_result"
    }
   ],
   "source": [
    "average_happiness = df.groupby(['country'])['happiness score'].mean()\n",
    "average_happiness"
   ]
  },
  {
   "cell_type": "code",
   "execution_count": 70,
   "id": "16fd1f67-32c1-4441-a3e3-10ccc1c51067",
   "metadata": {},
   "outputs": [
    {
     "data": {
      "text/plain": [
       "country\n",
       "Norway         7.537\n",
       "Denmark        7.522\n",
       "Iceland        7.504\n",
       "Switzerland    7.494\n",
       "Finland        7.469\n",
       "Netherlands    7.377\n",
       "Canada         7.316\n",
       "New Zealand    7.314\n",
       "Australia      7.284\n",
       "Sweden         7.284\n",
       "Name: happiness score, dtype: float64"
      ]
     },
     "execution_count": 70,
     "metadata": {},
     "output_type": "execute_result"
    }
   ],
   "source": [
    "average_happiness_ten = df.groupby(['country'])['happiness score'].mean().sort_values(ascending=False).iloc[0:10]\n",
    "average_happiness_ten"
   ]
  },
  {
   "cell_type": "code",
   "execution_count": 76,
   "id": "96949824-a551-4ad3-b58b-2ccf367ec35a",
   "metadata": {},
   "outputs": [
    {
     "data": {
      "text/plain": [
       "'North America'"
      ]
     },
     "execution_count": 76,
     "metadata": {},
     "output_type": "execute_result"
    }
   ],
   "source": [
    "region_happiness_max = df.groupby(['region'])['happiness score'].mean().idxmax()\n",
    "region_happiness_max"
   ]
  },
  {
   "cell_type": "code",
   "execution_count": null,
   "id": "2d0e9b78-8a1a-4265-9119-939766099cad",
   "metadata": {},
   "outputs": [],
   "source": []
  }
 ],
 "metadata": {
  "kernelspec": {
   "display_name": "Python [conda env:base] *",
   "language": "python",
   "name": "conda-base-py"
  },
  "language_info": {
   "codemirror_mode": {
    "name": "ipython",
    "version": 3
   },
   "file_extension": ".py",
   "mimetype": "text/x-python",
   "name": "python",
   "nbconvert_exporter": "python",
   "pygments_lexer": "ipython3",
   "version": "3.12.7"
  }
 },
 "nbformat": 4,
 "nbformat_minor": 5
}
